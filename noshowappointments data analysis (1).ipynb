{
 "cells": [
  {
   "cell_type": "markdown",
   "id": "b8d8369f",
   "metadata": {},
   "source": [
    "import "
   ]
  },
  {
   "cell_type": "markdown",
   "id": "ce0e1779",
   "metadata": {},
   "source": [
    "import pandas as pd\n"
   ]
  },
  {
   "cell_type": "markdown",
   "id": "83dc0f76",
   "metadata": {},
   "source": [
    "import pandas as pd\n"
   ]
  },
  {
   "cell_type": "markdown",
   "id": "40d16bb2",
   "metadata": {},
   "source": [
    "df=pd.read_csv(r'D:\\Data analyst ALX\\noshowappointments-kagglev2-may-2016.csv')\n",
    "df.head()  \n",
    "# read and import the csv file so as to see , modify and use the dataset"
   ]
  },
  {
   "cell_type": "markdown",
   "id": "440125bc",
   "metadata": {},
   "source": [
    "df.shape\n",
    "# checking the dataset in terms of number of columns and rows"
   ]
  },
  {
   "cell_type": "markdown",
   "id": "fc33c48d",
   "metadata": {},
   "source": [
    "df.info()\n",
    "# checking for any missing values and datatypes apparently there are none"
   ]
  },
  {
   "cell_type": "markdown",
   "id": "ea47ea18",
   "metadata": {},
   "source": [
    "df.duplicated().sum() , df.duplicated('PatientId').sum(), df.duplicated('AppointmentID').sum()\n",
    "#Checking if the data has duplicates using the appointmentID and PatientId because they contain unique values\n"
   ]
  },
  {
   "cell_type": "markdown",
   "id": "129f098d",
   "metadata": {},
   "source": [
    "df.Gender = df.Gender.astype('category')\n",
    "df.ScheduledDay = pd.to_datetime(df.ScheduledDay)\n",
    "df.AppointmentDay = pd.to_datetime(df.AppointmentDay)\n",
    "# The Gender datatype can be changed into category because it has otions such Male or Female, also the AppointmentDay and \n",
    "#scheduledDay  have to be changed to datetime format"
   ]
  },
  {
   "cell_type": "markdown",
   "id": "d7fbd356",
   "metadata": {},
   "source": [
    "df.info() \n",
    "#check whether the changes have been effected."
   ]
  },
  {
   "cell_type": "markdown",
   "id": "264629fb",
   "metadata": {},
   "source": [
    "df.columns.str.upper()\n",
    "# Change the column titles to be in uppercase so as to be clearly visible"
   ]
  },
  {
   "cell_type": "markdown",
   "id": "b53a1054",
   "metadata": {},
   "source": [
    "\n",
    "df.columns = ['PATIENT_ID', 'APPOINTMENT_ID', 'GENDER', 'SCHEDULED_DAY',\n",
    "       'APPOINTMENTDAY', 'AGE', 'NEIGHBOURHOOD', 'SCHOLARSHIP', 'HIPERTENSION',\n",
    "       'DIABETES', 'ALCOHOLISM', 'HANDCAP', 'SMS_RECEIVED', 'NO-SHOW']\n"
   ]
  },
  {
   "cell_type": "markdown",
   "id": "4c1a4708",
   "metadata": {},
   "source": [
    "df.drop(['PATIENT_ID','APPOINTMENT_ID'],axis=1, inplace=True)\n",
    "# We need to drop these two coulumns because they seem not to be valuable when doing analysis"
   ]
  },
  {
   "cell_type": "markdown",
   "id": "236faa59",
   "metadata": {},
   "source": [
    "df.describe()"
   ]
  },
  {
   "cell_type": "markdown",
   "id": "84d05864",
   "metadata": {},
   "source": [
    "df.rename(columns={'NO-SHOW': 'PRESENT'}, inplace=True)\n",
    "#Renaming the column noshow to Present because it is either yes or no."
   ]
  },
  {
   "cell_type": "markdown",
   "id": "e208f5ca",
   "metadata": {},
   "source": [
    "df.PRESENT.replace(['No', 'Yes'], [1, 0], inplace=True)"
   ]
  },
  {
   "cell_type": "markdown",
   "id": "431708f9",
   "metadata": {},
   "source": [
    "df.info()"
   ]
  },
  {
   "cell_type": "markdown",
   "id": "50088944",
   "metadata": {},
   "source": [
    "df.describe()\n",
    "#Checking the dataset description overview age has a negative value which needs to be investigated and removed"
   ]
  },
  {
   "cell_type": "markdown",
   "id": "7beec524",
   "metadata": {},
   "source": [
    "df[df.AGE < 0]\n",
    "# checking the record that contains the negtive value"
   ]
  },
  {
   "cell_type": "markdown",
   "id": "f2080fc8",
   "metadata": {},
   "source": [
    "# We can use a boxplot to check for outliers in terms of negative values and  exegerated values in a visualized manner\n",
    "df.AGE.plot(kind='box');\n",
    "iqr = df.AGE.quantile(0.75) - df.AGE.quantile(0.25)\n",
    "outlier = df.AGE.quantile(0.75) + 1.5*iqr\n",
    "print('Outlier Threshold:', int(round(outlier,0)))\n",
    "df[df.AGE > 110]"
   ]
  },
  {
   "cell_type": "markdown",
   "id": "77d15c6a",
   "metadata": {},
   "source": [
    "df = df[(df.AGE >=0) & (df.AGE <=110)]\n",
    "df.shape"
   ]
  },
  {
   "cell_type": "markdown",
   "id": "1289d51e",
   "metadata": {},
   "source": [
    "df['TIMEDIFFERENCE'] = df.APPOINTMENTDAY - df.SCHEDULED_DAY\n",
    "df.TIMEDIFFERENCE.describe()\n",
    "# We can create a coulumn called Timedifference for calculating the diffrence in time between the appointment date and when it was scheduled."
   ]
  },
  {
   "cell_type": "markdown",
   "id": "89d50969",
   "metadata": {},
   "source": [
    "# Having an overview of the data so as to answer some questions\n",
    "ref = ['SCHOLARSHIP', 'HIPERTENSION','DIABETES', 'ALCOHOLISM', 'HANDCAP',\n",
    "       'SMS_RECEIVED', 'PRESENT']\n",
    "df[ref].mean().round(2)\n",
    "#Patients who are suffering from alcoholism=3%, diabetes=7%, hypertension=20%"
   ]
  },
  {
   "cell_type": "markdown",
   "id": "4a65b59f",
   "metadata": {},
   "source": [
    "\n",
    "(df.groupby('GENDER').size() / df.shape[0]).round(2)\n",
    "# there are almost 2 times more female patients than male"
   ]
  },
  {
   "cell_type": "markdown",
   "id": "0dcf57e1",
   "metadata": {},
   "source": [
    "import matplotlib.pyplot as plt\n",
    "df.AGE.plot(kind='hist',bins=10)\n",
    "plt.title('AGE Histogram');\n",
    "#"
   ]
  },
  {
   "cell_type": "markdown",
   "id": "0218c326",
   "metadata": {},
   "source": [
    "pd.crosstab(df.AGE, df.GENDER).plot(style=['or','ob'], alpha=0.8);\n",
    "plt.title('Age Frequency by Gender')\n",
    "plt.ylabel('Frequency');"
   ]
  },
  {
   "cell_type": "markdown",
   "id": "c23dc954",
   "metadata": {},
   "source": [
    "%matplotlib inline\n",
    "def proportion_attendance(feature):\n",
    "    pd.crosstab(df[feature], df.PRESENT, normalize='columns').plot(kind='bar', alpha=0.85)\n",
    "    plt.xlabel('Feature: {}'.format(feature.replace('_',' ').title()))\n",
    "    plt.ylabel('Proportion')\n",
    "    plt.title('Proportion of Attendance Rate by {}'.format(feature.replace('_',' ').title()))\n",
    "    plt.margins(y=0.1)\n",
    "    return plt"
   ]
  },
  {
   "cell_type": "markdown",
   "id": "a4f09128",
   "metadata": {},
   "source": [
    "proportion_attendance('GENDER');\n",
    "#Question 1.\tDoes gender  influence the rate of attendance\n",
    "#From the below visualization there is no evidence of correlation between gender and attendance"
   ]
  },
  {
   "cell_type": "markdown",
   "id": "d5ddbe85",
   "metadata": {},
   "source": [
    "df['age_groups'] = pd.qcut(df.AGE, 10)\n",
    "proportion_attendance('age_groups');\n",
    "# Question 2 2.\tDoes age determine probability of attendance"
   ]
  },
  {
   "cell_type": "markdown",
   "id": "11cac985",
   "metadata": {},
   "source": [
    "ref_list = ['HIPATENSION', 'DIABETES', 'ALCOHOLISM', 'HANDCAP']\n",
    "\n",
    "proportion_attendance('ALCOHOLISM');"
   ]
  },
  {
   "cell_type": "markdown",
   "id": "a3fdc650",
   "metadata": {},
   "source": [
    "ref_list = ['HIPATENSION', 'DIABETES', 'ALCOHOLISM', 'HANDCAP']\n",
    "\n",
    "proportion_attendance('HANDCAP');"
   ]
  },
  {
   "cell_type": "markdown",
   "id": "95a3f7b2",
   "metadata": {},
   "source": [
    "ref_list = ['HIPATENSION', 'DIABETES', 'ALCOHOLISM', 'HANDICAP']\n",
    "\n",
    "proportion_attendance('DIABETES');"
   ]
  },
  {
   "cell_type": "markdown",
   "id": "c15495c2",
   "metadata": {},
   "source": [
    "ref_list = ['HIPERTENSION', 'DIABETES', 'ALCOHOLISM', 'HANDICAP']\n",
    "\n",
    "proportion_attendance('HIPERTENSION');"
   ]
  },
  {
   "cell_type": "markdown",
   "id": "6a848067",
   "metadata": {},
   "source": [
    "proportion_attendance('SMS_RECEIVED');"
   ]
  },
  {
   "cell_type": "markdown",
   "id": "309cb589",
   "metadata": {},
   "source": [
    "The questions posed during the data investigation include;\n",
    "1.\tDoes gender influence the rate of attendance?\n",
    "2.\tDoes age determine probability of attendance?\n",
    "3.\tDo those people who receive SMS attend regularly?\n",
    "4.\tDoes any medical condition accelerate probability of attendance?\n",
    "\n",
    "\n",
    "From the data analysis the following were the findings as visualized below\n",
    "Does gender influence the rate of attendance: There was no clear cut whether gender affects the probability of attendance as shown above\n",
    "\n",
    "Does age determine probability of attendance \n",
    "From the analyzed data it is clear that people who are aged more than 45 years old are likely to attend appointments whereas those less than 45 years are less likely to attend\n",
    "\n",
    "Do those people who receive SMS attend regularly\n",
    " Receiving an SMS does seem to guarantee attendance by the patients as shown above\n",
    "    \n",
    "    Does any medical condition accelerate probability of attendance?\n",
    "The attendance of various patients with conditions is visualized above. \n",
    "From this analysis patients with diabetes and hypertension are more likely to show up.\n",
    "References used include:\n",
    "  1       https://jupyter.org/\n",
    "  2       https://stackoverflow.com/\n",
    "  3 https://www.youtube.com/playlist?list=PL1m-6MPBNAZfF-El7BzqaOrCrTBRgH1Nk\n",
    "  4 https://www.pluralsight.com/courses/jupyter-notebook-python\n",
    "\n",
    "                  Books\n",
    "1.\tJupyter (formerly IPython notebook) Finn ˚Arup Nielsen DTU Compute Technical University of Denmark\n",
    "2.\t Learning jupyter by Dan Toomey\n",
    "\n",
    "\n",
    "\n",
    "        \n"
   ]
  },
  {
   "cell_type": "code",
   "execution_count": null,
   "id": "e1ac9c7d",
   "metadata": {},
   "outputs": [],
   "source": []
  },
  {
   "cell_type": "code",
   "execution_count": null,
   "id": "44ec4420",
   "metadata": {},
   "outputs": [],
   "source": []
  },
  {
   "cell_type": "code",
   "execution_count": null,
   "id": "f6adc1d5",
   "metadata": {},
   "outputs": [],
   "source": []
  }
 ],
 "metadata": {
  "kernelspec": {
   "display_name": "Python 3 (ipykernel)",
   "language": "python",
   "name": "python3"
  },
  "language_info": {
   "codemirror_mode": {
    "name": "ipython",
    "version": 3
   },
   "file_extension": ".py",
   "mimetype": "text/x-python",
   "name": "python",
   "nbconvert_exporter": "python",
   "pygments_lexer": "ipython3",
   "version": "3.9.12"
  }
 },
 "nbformat": 4,
 "nbformat_minor": 5
}
